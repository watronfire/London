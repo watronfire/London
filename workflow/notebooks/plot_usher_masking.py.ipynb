{
 "cells": [
  {
   "metadata": {},
   "cell_type": "code",
   "outputs": [],
   "execution_count": null,
   "source": [
    "import pandas as pd\n",
    "import numpy as np\n",
    "import matplotlib.pyplot as plt\n",
    "import matplotlib.ticker as mticker\n",
    "from statsmodels.stats.proportion import proportion_confint"
   ],
   "id": "7832afdffd22fba0"
  },
  {
   "metadata": {},
   "cell_type": "code",
   "outputs": [],
   "execution_count": null,
   "source": [
    "res = pd.read_csv( snakemake.input.results )\n",
    "res[\"correct\"] = (res[\"lineage\"] == res[\"actual\"])&(res[\"confidence\"]==1)\n",
    "res[\"frac_masked\"] = res[\"frac_masked\"] / 100\n",
    "res[\"parsimony_placements\"] = res[\"classification_notes\"].str.extract(r\"[A-Z0-9.]+\\([0-9]+\\/([0-9]+)\\)\")\n",
    "res[\"parsimony_placements\"] = pd.to_numeric( res[\"parsimony_placements\"] )\n",
    "res.loc[~res[\"correct\"],\"confidence\"] = 1 - res[\"confidence\"]\n",
    "res = res.loc[~res[\"file\"].str.startswith( \"ERR025389_T2\" )]\n",
    "res.head()"
   ],
   "id": "e0a04f9bac98bf32"
  },
  {
   "metadata": {},
   "cell_type": "code",
   "outputs": [],
   "execution_count": null,
   "source": [
    "accuracy = res.groupby( \"frac_masked\" )[\"correct\"].agg( [\"count\", \"sum\"] )\n",
    "accuracy.columns = [\"observations\", \"successes\"]\n",
    "accuracy = accuracy.reset_index()\n",
    "accuracy[\"accuracy\"] = accuracy[\"successes\"] / accuracy[\"observations\"]\n",
    "accuracy[[\"accuracy_low\", \"accuracy_high\"]] = accuracy.apply( lambda x: pd.Series( proportion_confint( x[\"successes\"], x[\"observations\"], alpha=0.05, method=\"jeffreys\" ) ), axis=1 )\n",
    "accuracy[\"genome_present\"] = 1 - accuracy[\"frac_masked\"]\n",
    "accuracy.head()"
   ],
   "id": "f6212666b3254cae"
  },
  {
   "metadata": {},
   "cell_type": "code",
   "outputs": [],
   "execution_count": null,
   "source": [
    "fig, ax = plt.subplots( dpi=200, figsize=(5,4) )\n",
    "\n",
    "ax.plot( \"frac_masked\", \"accuracy\", data=accuracy, color=\"black\", zorder=100 )\n",
    "ax.fill_between( \"frac_masked\", \"accuracy_low\", \"accuracy_high\", data=accuracy, color=\"black\", linewidth=0, alpha=0.2, zorder=99)\n",
    "\n",
    "ax.xaxis.set_major_formatter( mticker.PercentFormatter( 1 ) )\n",
    "ax.yaxis.set_major_formatter( mticker.PercentFormatter( 1 ) )\n",
    "\n",
    "ax.set_xlim( 0, 1.01 )\n",
    "ax.set_ylim( 0, 1.01 )\n",
    "\n",
    "ax.set_xticks( np.arange( 0, 1, 0.05 ), minor=True )\n",
    "ax.set_yticks( np.arange( 0, 1, 0.05 ), minor=True )\n",
    "\n",
    "ax.set_xlabel( \"Genome masked\", fontweight=\"bold\" )\n",
    "ax.set_ylabel( \"Accuracy\", fontweight=\"bold\" )\n",
    "\n",
    "ax.grid( which=\"both\", color=\"#EFEFEF\")\n",
    "\n",
    "plt.tight_layout()\n",
    "plt.savefig( snakemake.output.accuracy_plot )\n",
    "plt.show()"
   ],
   "id": "7cd979d91c347105"
  },
  {
   "metadata": {},
   "cell_type": "code",
   "outputs": [],
   "execution_count": null,
   "source": [
    "pp = res.groupby( \"frac_masked\" )[\"parsimony_placements\"].describe( percentiles=[0.025, 0.5, 0.975])\n",
    "pp = pp.reset_index()\n",
    "pp.head()"
   ],
   "id": "24b0684c5911a237"
  },
  {
   "metadata": {},
   "cell_type": "code",
   "outputs": [],
   "execution_count": null,
   "source": "",
   "id": "11e3058fc1c7794f"
  }
 ],
 "metadata": {
  "kernelspec": {
   "display_name": "Python 3",
   "language": "python",
   "name": "python3"
  },
  "language_info": {
   "codemirror_mode": {
    "name": "ipython",
    "version": 2
   },
   "file_extension": ".py",
   "mimetype": "text/x-python",
   "name": "python",
   "nbconvert_exporter": "python",
   "pygments_lexer": "ipython2",
   "version": "2.7.6"
  }
 },
 "nbformat": 4,
 "nbformat_minor": 5
}
