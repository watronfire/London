{
 "cells": [
  {
   "cell_type": "code",
   "execution_count": null,
   "id": "initial_id",
   "metadata": {
    "collapsed": true
   },
   "outputs": [],
   "source": [
    "import pandas as pd\n",
    "import numpy as np\n",
    "import matplotlib.pyplot as plt\n",
    "import matplotlib.ticker as mticker\n",
    "from statsmodels.stats.proportion import proportion_confint"
   ]
  },
  {
   "metadata": {},
   "cell_type": "code",
   "outputs": [],
   "execution_count": null,
   "source": [
    "res = pd.read_csv( snakemake.input.results )\n",
    "res[\"parsimony_placements\"] = res[\"result\"].str.extract(r\"[A-Z0-9.]+\\([0-9]+\\/([0-9]+)\\)\")\n",
    "res[\"parsimony_placements\"] = pd.to_numeric( res[\"parsimony_placements\"] )\n",
    "res.head()"
   ],
   "id": "bfe78e591f61bc58"
  },
  {
   "metadata": {},
   "cell_type": "code",
   "outputs": [],
   "execution_count": null,
   "source": [
    "summ = res.groupby( \"fraction_missing\" )[\"correct\"].agg( [\"count\", \"sum\"] )\n",
    "summ.columns = [\"observations\", \"successes\"]\n",
    "summ = summ.reset_index()\n",
    "summ[\"accuracy\"] = summ[\"successes\"] / summ[\"observations\"]\n",
    "summ[[\"accuracy_low\", \"accuracy_high\"]] = summ.apply( lambda x: pd.Series( proportion_confint( x[\"successes\"], x[\"observations\"], alpha=0.05, method=\"jeffreys\" ) ), axis=1 )\n",
    "summ.head()"
   ],
   "id": "942528da95d300ee"
  },
  {
   "metadata": {},
   "cell_type": "code",
   "outputs": [],
   "execution_count": null,
   "source": [
    "fig, ax = plt.subplots( dpi=200, figsize=(5,4) )\n",
    "\n",
    "ax.plot( \"fraction_missing\", \"accuracy\", data=summ, color=\"black\", zorder=100 )\n",
    "ax.fill_between( \"fraction_missing\", \"accuracy_low\", \"accuracy_high\", data=summ, color=\"black\", linewidth=0, alpha=0.2, zorder=99)\n",
    "\n",
    "ax.xaxis.set_major_formatter( mticker.PercentFormatter( 1 ) )\n",
    "ax.yaxis.set_major_formatter( mticker.PercentFormatter( 1 ) )\n",
    "\n",
    "ax.set_xlim( 0, 1.01 )\n",
    "ax.set_ylim( 0, 1.01 )\n",
    "\n",
    "ax.set_xticks( np.arange( 0, 1, 0.05 ), minor=True )\n",
    "ax.set_yticks( np.arange( 0, 1, 0.05 ), minor=True )\n",
    "\n",
    "ax.set_xlabel( \"Variants masked\", fontweight=\"bold\" )\n",
    "ax.set_ylabel( \"Accuracy\", fontweight=\"bold\" )\n",
    "\n",
    "ax.grid( which=\"both\", color=\"#EFEFEF\")\n",
    "\n",
    "plt.tight_layout()\n",
    "plt.savefig( snakemake.output.accuracy_plot )\n",
    "plt.show()"
   ],
   "id": "145bb26c7579a7ce"
  },
  {
   "metadata": {},
   "cell_type": "code",
   "outputs": [],
   "execution_count": null,
   "source": [
    "pp = res.groupby( \"fraction_missing\" )[\"parsimony_placements\"].describe( percentiles=[0.025, 0.5, 0.975])\n",
    "pp = pp.reset_index()\n",
    "pp.head()"
   ],
   "id": "538eb0876139f11b"
  },
  {
   "metadata": {},
   "cell_type": "code",
   "outputs": [],
   "execution_count": null,
   "source": [
    "fig, ax = plt.subplots( dpi=200, figsize=(5,4) )\n",
    "\n",
    "ax.plot( \"fraction_missing\", \"50%\", data=pp, color=\"black\", zorder=100 )\n",
    "ax.fill_between( \"fraction_missing\", \"2.5%\", \"97.5%\", data=pp, color=\"black\", linewidth=0, alpha=0.2, zorder=99)\n",
    "\n",
    "ax.xaxis.set_major_formatter( mticker.PercentFormatter( 1 ) )\n",
    "#ax.yaxis.set_major_formatter( mticker.PercentFormatter( 1 ) )\n",
    "\n",
    "ax.set_xlim( 0, 1.01 )\n",
    "ax.set_ylim( 0, 10 )\n",
    "\n",
    "ax.set_xticks( np.arange( 0, 1, 0.05 ), minor=True )\n",
    "ax.set_yticks( np.arange( 0, 10, 1 ), minor=True )\n",
    "ax.set_yticks( np.arange( 0, 15, 5 ), minor=False )\n",
    "\n",
    "ax.set_xlabel( \"Variants masked (%)\", fontweight=\"bold\" )\n",
    "ax.set_ylabel( \"Parsimoneous placements\", fontweight=\"bold\" )\n",
    "\n",
    "ax.grid( which=\"both\", color=\"#EFEFEF\")\n",
    "\n",
    "plt.tight_layout()\n",
    "plt.savefig( snakemake.output.parsimony_plot )\n",
    "plt.show()"
   ],
   "id": "f709678711384cc7"
  }
 ],
 "metadata": {
  "kernelspec": {
   "display_name": "Python 3",
   "language": "python",
   "name": "python3"
  },
  "language_info": {
   "codemirror_mode": {
    "name": "ipython",
    "version": 2
   },
   "file_extension": ".py",
   "mimetype": "text/x-python",
   "name": "python",
   "nbconvert_exporter": "python",
   "pygments_lexer": "ipython2",
   "version": "2.7.6"
  }
 },
 "nbformat": 4,
 "nbformat_minor": 5
}
