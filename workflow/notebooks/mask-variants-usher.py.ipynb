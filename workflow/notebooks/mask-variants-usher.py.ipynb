{
 "cells": [
  {
   "cell_type": "code",
   "id": "initial_id",
   "metadata": {
    "collapsed": true,
    "ExecuteTime": {
     "end_time": "2025-06-06T18:20:12.664795Z",
     "start_time": "2025-06-06T18:20:11.877192Z"
    }
   },
   "source": [
    "import pandas as pd\n",
    "from importlib.resources import files\n",
    "from pathlib import Path\n",
    "import tempfile\n",
    "import subprocess"
   ],
   "outputs": [],
   "execution_count": 1
  },
  {
   "metadata": {},
   "cell_type": "code",
   "outputs": [],
   "execution_count": null,
   "source": [
    "vcf = pd.read_csv( snakemake.input.vcf, sep=\"\\t\", skiprows=13 )\n",
    "vcf = vcf.set_index(['#CHROM', 'POS', 'ID', 'REF', 'ALT', 'QUAL', 'FILTER', 'INFO', 'FORMAT'])\n",
    "vcf.head()"
   ],
   "id": "f93b914556ade88f"
  },
  {
   "metadata": {},
   "cell_type": "code",
   "outputs": [],
   "execution_count": null,
   "source": [
    "cand = pd.read_csv( snakemake.input.candidates )\n",
    "cand[\"lineage\"] = cand[\"id\"].apply( lambda x: x.split(\"_\" )[-1] )\n",
    "samples = cand[\"sequence_id\"].to_list()\n",
    "cand.head()"
   ],
   "id": "931d315c957da7ff"
  },
  {
   "metadata": {},
   "cell_type": "code",
   "outputs": [],
   "execution_count": null,
   "source": [
    "pb = files( \"vibecheck\" ) / \"resources/o1_cholera.no_missing.pb\"\n",
    "\n",
    "usher_results = {\n",
    "    \"fraction_missing\" : [],\n",
    "    \"trial\" : [],\n",
    "    \"result\" : [],\n",
    "    \"sample\" : []\n",
    "}\n",
    "\n",
    "fractions = [i/100 for i in snakemake.params.frequencies]\n",
    "\n",
    "results = list()\n",
    "\n",
    "for frac in fractions:\n",
    "    for trial in range( snakemake.params.trials ):\n",
    "        temp_dir = Path( tempfile.gettempdir() ) / f\"{trial}-{frac}/\"\n",
    "        temp_dir.mkdir( parents=True, exist_ok=True )\n",
    "        temp_vcf = tempfile.NamedTemporaryFile(suffix=\".vcf\")\n",
    "\n",
    "        vcf.sample(frac=frac, replace=False )[samples].to_csv( temp_vcf, sep=\"\\t\" )\n",
    "\n",
    "        subprocess.run( f\"usher -n -D -i {pb} -v {temp_vcf.name} -T {snakemake.threads} -d {temp_dir}\", shell=True, stdout=subprocess.DEVNULL, stderr=subprocess.STDOUT )\n",
    "\n",
    "        result = pd.read_csv( (temp_dir / \"clades.txt\"), sep=\"\\t\", header=None, names=[\"sample\", \"result\"] )\n",
    "        result[\"fraction_missing\"] =  1-frac\n",
    "        result[\"trial\"] = trial\n",
    "        results.append( result )\n",
    "\n",
    "    print( f\"Finished {frac}\" )"
   ],
   "id": "a6fbb534aa826b27"
  },
  {
   "metadata": {},
   "cell_type": "code",
   "outputs": [],
   "execution_count": null,
   "source": [
    "usher_results = pd.concat( results, ignore_index=True )\n",
    "usher_results[\"lineage\"] = usher_results[\"result\"].apply( lambda x: x.split( \"*|\" )[0] )\n",
    "usher_results[\"actual\"] = usher_results[\"sample\"].apply( lambda x: x.split( \"|\" )[3] )\n",
    "usher_results[\"correct\"] = usher_results[\"lineage\"] == usher_results[\"actual\"]\n",
    "usher_results.head()"
   ],
   "id": "3f98c5de55266be1"
  },
  {
   "metadata": {},
   "cell_type": "code",
   "outputs": [],
   "execution_count": null,
   "source": "usher_results.to_csv( snakemake.output.results )",
   "id": "633043c01e033845"
  }
 ],
 "metadata": {
  "kernelspec": {
   "display_name": "Python 3",
   "language": "python",
   "name": "python3"
  },
  "language_info": {
   "codemirror_mode": {
    "name": "ipython",
    "version": 2
   },
   "file_extension": ".py",
   "mimetype": "text/x-python",
   "name": "python",
   "nbconvert_exporter": "python",
   "pygments_lexer": "ipython2",
   "version": "2.7.6"
  }
 },
 "nbformat": 4,
 "nbformat_minor": 5
}
