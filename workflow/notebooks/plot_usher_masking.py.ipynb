{
 "cells": [
  {
   "metadata": {},
   "cell_type": "code",
   "outputs": [],
   "execution_count": null,
   "source": [
    "import pandas as pd\n",
    "import numpy as np\n",
    "import matplotlib.pyplot as plt\n",
    "import matplotlib.ticker as mticker\n",
    "from statsmodels.stats.proportion import proportion_confint"
   ],
   "id": "7832afdffd22fba0"
  },
  {
   "metadata": {},
   "cell_type": "code",
   "outputs": [],
   "execution_count": null,
   "source": [
    "res = pd.read_csv( snakemake.input.results )\n",
    "res[\"correct\"] = (res[\"lineage\"] == res[\"actual\"])&(res[\"confidence\"]==1)\n",
    "res[\"frac_masked\"] = res[\"frac_masked\"] / 100\n",
    "res[\"parsimony_placements\"] = res[\"classification_notes\"].str.extract(r\"[A-Z0-9.]+\\([0-9]+\\/([0-9]+)\\)\")\n",
    "res[\"parsimony_placements\"] = pd.to_numeric( res[\"parsimony_placements\"] )\n",
    "res.loc[~res[\"correct\"],\"confidence\"] = 1 - res[\"confidence\"]\n",
    "res = res.loc[~res[\"file\"].str.startswith( \"ERR025389_T2\" )]\n",
    "res.head()"
   ],
   "id": "e0a04f9bac98bf32"
  },
  {
   "metadata": {},
   "cell_type": "code",
   "outputs": [],
   "execution_count": null,
   "source": [
    "accuracy = res.groupby( \"frac_masked\" )[\"correct\"].agg( [\"count\", \"sum\"] )\n",
    "accuracy.columns = [\"observations\", \"successes\"]\n",
    "accuracy = accuracy.reset_index()\n",
    "accuracy[\"accuracy\"] = accuracy[\"successes\"] / accuracy[\"observations\"]\n",
    "accuracy[[\"accuracy_low\", \"accuracy_high\"]] = accuracy.apply( lambda x: pd.Series( proportion_confint( x[\"successes\"], x[\"observations\"], alpha=0.05, method=\"jeffreys\" ) ), axis=1 )\n",
    "accuracy[\"genome_present\"] = 1 - accuracy[\"frac_masked\"]\n",
    "accuracy.head()"
   ],
   "id": "f6212666b3254cae"
  },
  {
   "metadata": {},
   "cell_type": "code",
   "outputs": [],
   "execution_count": null,
   "source": [
    "fig, ax = plt.subplots( dpi=200, figsize=(5,4) )\n",
    "\n",
    "ax.plot( \"frac_masked\", \"accuracy\", data=accuracy, color=\"black\", zorder=100 )\n",
    "ax.fill_between( \"frac_masked\", \"accuracy_low\", \"accuracy_high\", data=accuracy, color=\"black\", linewidth=0, alpha=0.2, zorder=99)\n",
    "\n",
    "ax.xaxis.set_major_formatter( mticker.PercentFormatter( 1 ) )\n",
    "ax.yaxis.set_major_formatter( mticker.PercentFormatter( 1 ) )\n",
    "\n",
    "ax.set_xlim( 0, 1.01 )\n",
    "ax.set_ylim( 0, 1.01 )\n",
    "\n",
    "ax.set_xticks( np.arange( 0, 1, 0.05 ), minor=True )\n",
    "ax.set_yticks( np.arange( 0, 1, 0.05 ), minor=True )\n",
    "\n",
    "ax.set_xlabel( \"Genome masked\", fontweight=\"bold\" )\n",
    "ax.set_ylabel( \"Accuracy\", fontweight=\"bold\" )\n",
    "\n",
    "ax.grid( which=\"both\", color=\"#EFEFEF\")\n",
    "\n",
    "plt.tight_layout()\n",
    "plt.savefig( snakemake.output.accuracy_plot )\n",
    "plt.show()"
   ],
   "id": "7cd979d91c347105"
  },
  {
   "metadata": {},
   "cell_type": "code",
   "outputs": [],
   "execution_count": null,
   "source": [
    "pp = res.groupby( \"frac_masked\" )[\"parsimony_placements\"].describe( percentiles=[0.025, 0.5, 0.975])\n",
    "pp = pp.reset_index()\n",
    "pp.head()"
   ],
   "id": "24b0684c5911a237"
  },
  {
   "metadata": {},
   "cell_type": "code",
   "outputs": [],
   "execution_count": null,
   "source": [
    "fig, ax = plt.subplots( dpi=200, figsize=(5,4) )\n",
    "\n",
    "ax.plot( \"frac_masked\", \"50%\", data=pp, color=\"black\", zorder=100 )\n",
    "ax.fill_between( \"frac_masked\", \"2.5%\", \"97.5%\", data=pp, color=\"black\", linewidth=0, alpha=0.2, zorder=99)\n",
    "\n",
    "ax.xaxis.set_major_formatter( mticker.PercentFormatter( 1 ) )\n",
    "\n",
    "ax.set_xlim( 0, 1.01 )\n",
    "ax.set_ylim( 0, 20 )\n",
    "\n",
    "ax.set_xticks( np.arange( 0, 1, 0.05 ), minor=True )\n",
    "ax.set_yticks( np.arange( 0, 20, 1 ), minor=True )\n",
    "ax.set_yticks( np.arange( 0, 25, 5 ), minor=False )\n",
    "\n",
    "ax.set_xlabel( \"Genome masked (%)\", fontweight=\"bold\" )\n",
    "ax.set_ylabel( \"Parsimoneous placements\", fontweight=\"bold\" )\n",
    "\n",
    "ax.grid( which=\"both\", color=\"#EFEFEF\")\n",
    "\n",
    "plt.tight_layout()\n",
    "plt.savefig( snakemake.output.parsimony_plot )\n",
    "plt.show()"
   ],
   "id": "11e3058fc1c7794f"
  },
  {
   "metadata": {},
   "cell_type": "code",
   "outputs": [],
   "execution_count": null,
   "source": [
    "aps = res.groupby( [\"actual\", \"frac_masked\"] )[\"correct\"].agg( [\"count\", \"sum\"])\n",
    "aps.columns = [\"observations\", \"successes\"]\n",
    "aps[\"accuracy\"] = aps[\"successes\"] / aps[\"observations\"]\n",
    "aps[[\"accuracy_low\", \"accuracy_high\"]] = aps.apply( lambda x: pd.Series( proportion_confint( x[\"successes\"], x[\"observations\"], alpha=0.05, method=\"jeffreys\" ) ), axis=1 )\n",
    "aps = aps.reset_index()\n",
    "aps.head()"
   ],
   "id": "c733d027bbc38b58"
  },
  {
   "metadata": {},
   "cell_type": "code",
   "outputs": [],
   "execution_count": null,
   "source": [
    "fig, axes = plt.subplots( dpi=200, figsize=(10,6), nrows=3, ncols=4, sharex=True, sharey=True )\n",
    "lineages = [\"T1\", \"T2\", \"T5\", \"T6\", \"T7\", \"T8\", \"T9\", \"T10\", \"T12\", \"T13\", \"T15\"]\n",
    "axes[-1,-1].remove()\n",
    "for lin, ax in zip( lineages, axes.flatten() ):\n",
    "    df = aps.loc[aps[\"actual\"]==lin]\n",
    "    ax.plot(df[\"frac_masked\"], df[\"accuracy\"], label=lin, zorder=10, color=\"black\" )\n",
    "    ax.fill_between( \"frac_masked\", \"accuracy_low\", \"accuracy_high\", data=df, color=\"black\", alpha=0.2, linewidth=0, zorder=9 )\n",
    "    ax.set_ylim(0,1.05)\n",
    "    ax.set_xlim(0,1.05)\n",
    "    ax.set_xticks( np.arange(0,1,0.1), minor=True)\n",
    "    ax.set_yticks( np.arange(0,1,0.1), minor=True)\n",
    "    ax.set_xticks( [0,0.5,1] )\n",
    "    ax.set_yticks( [0,0.5,1] )\n",
    "    ax.xaxis.set_major_formatter( mticker.PercentFormatter(1) )\n",
    "    ax.yaxis.set_major_formatter( mticker.PercentFormatter(1) )\n",
    "    ax.grid( which=\"major\", axis=\"both\", linewidth=1, color=\"#F1F1F1\", zorder=1 )\n",
    "    ax.grid( which=\"minor\", axis=\"both\", linewidth=0.5, color=\"#F1F1F1\", zorder=1 )\n",
    "    ax.set_title( lin, fontweight=\"bold\", loc=\"left\", fontsize=10 )\n",
    "    ax.set_xlabel( \"Genome masked (%)\", fontweight=\"bold\")\n",
    "    ax.set_ylabel( \"Accuracy (%)\", fontweight=\"bold\" )\n",
    "    if lin != \"T10\":\n",
    "        ax.label_outer()\n",
    "\n",
    "axes[1,3].tick_params( axis=\"x\", labelbottom=True)\n",
    "axes[1,3].set_ylabel( \"\" )\n",
    "axes[1,3].set_xticks([0, 0.5, 1])\n",
    "\n",
    "plt.tight_layout()\n",
    "plt.savefig( snakemake.output.accuracy_lineage_plot )\n",
    "plt.show()"
   ],
   "id": "9583c75743cf547b"
  }
 ],
 "metadata": {
  "kernelspec": {
   "display_name": "Python 3",
   "language": "python",
   "name": "python3"
  },
  "language_info": {
   "codemirror_mode": {
    "name": "ipython",
    "version": 2
   },
   "file_extension": ".py",
   "mimetype": "text/x-python",
   "name": "python",
   "nbconvert_exporter": "python",
   "pygments_lexer": "ipython2",
   "version": "2.7.6"
  }
 },
 "nbformat": 4,
 "nbformat_minor": 5
}
