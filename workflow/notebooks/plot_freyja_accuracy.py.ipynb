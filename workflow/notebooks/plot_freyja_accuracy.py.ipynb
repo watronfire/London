{
 "cells": [
  {
   "cell_type": "code",
   "execution_count": null,
   "id": "initial_id",
   "metadata": {
    "collapsed": true
   },
   "outputs": [],
   "source": [
    "import pandas as pd\n",
    "import matplotlib.pyplot as plt\n",
    "from statsmodels.stats.proportion import proportion_confint\n",
    "import matplotlib.ticker as mticker\n",
    "from matplotlib.lines import Line2D\n",
    "import numpy as np"
   ]
  },
  {
   "metadata": {},
   "cell_type": "code",
   "outputs": [],
   "execution_count": null,
   "source": [
    "df = pd.read_csv( snakemake.input.terra_results, sep=\"\\t\" )\n",
    "df = df.loc[df[\"vibecheck_reads_lineage\"].notna()]\n",
    "df.loc[df[\"vibecheck_reads_lineage\"].str.startswith( \"anc\"),\"vibecheck_reads_lineage\"] = \"UNK\"\n",
    "df[\"correct\"] = df[\"vibecheck_reads_lineage\"] == df[\"te\"]\n",
    "df = df.loc[~df[\"te\"].isin([\"sporadic\",\"T17\"])]\n",
    "df.head()"
   ],
   "id": "1f1a4cd9735cd1a1"
  },
  {
   "metadata": {},
   "cell_type": "code",
   "outputs": [],
   "execution_count": null,
   "source": [
    "successes = df[\"correct\"].sum()\n",
    "observations = df.shape[0]\n",
    "accuracy = successes / observations\n",
    "ci = proportion_confint( successes, observations, alpha=0.05, method=\"jeffries\" )\n",
    "print( f\"Vibecheck correctly reported {accuracy:.1%} of samples (95% confidence interval: {ci[0]:.1%} - {ci[1]:.1%})\" )"
   ],
   "id": "aac66fa9bdb330b2"
  },
  {
   "metadata": {},
   "cell_type": "code",
   "outputs": [],
   "execution_count": null,
   "source": [
    "summ = df.groupby( \"te\" )[\"correct\"].agg( [\"count\", \"sum\"] ).reset_index()\n",
    "summ.columns = [\"lineage_actual\", \"observations\", \"successes\"]\n",
    "summ[\"accuracy\"] = summ[\"successes\"] / summ[\"observations\"]\n",
    "summ[[\"accuracy_low\", \"accuracy_high\"]] = summ.apply( lambda x: pd.Series( proportion_confint( x[\"successes\"], x[\"observations\"], alpha=0.05, method=\"jeffreys\" ) ), axis=1 )\n",
    "summ.sort_values( \"lineage_actual\" )\n",
    "summ[\"numeric_lineage\"] = summ[\"lineage_actual\"].str.extract(r\"(\\d+)\" ).fillna(99).astype(int)\n",
    "summ = summ.sort_values( by=\"numeric_lineage\" ).reset_index( drop=True )\n",
    "summ[\"failures\"] = (summ[\"observations\"] - summ[\"successes\"]) / summ[\"observations\"]\n",
    "summ"
   ],
   "id": "35da91a14cda6113"
  },
  {
   "metadata": {},
   "cell_type": "code",
   "outputs": [],
   "execution_count": null,
   "source": [
    "confusion_matrix = df.pivot_table( index=\"vibecheck_reads_lineage\", columns=\"te\", values=\"vibecheck_reads_confidence\", aggfunc=\"count\", fill_value=0 )\n",
    "confusion_matrix = confusion_matrix.reindex( columns=summ[\"lineage_actual\"], index=summ[\"lineage_actual\"]).fillna(0)\n",
    "confusion_matrix"
   ],
   "id": "59b05d041f6c133d"
  },
  {
   "metadata": {},
   "cell_type": "code",
   "outputs": [],
   "execution_count": null,
   "source": [
    "fig, ax = plt.subplots( dpi=200, figsize=(10,4), ncols=2 )\n",
    "\n",
    "lineages = summ.shape[0]\n",
    "\n",
    "ax[0].bar( summ.index, summ[\"accuracy\"], color=\"skyblue\", zorder=100 )\n",
    "ax[0].bar( summ.index, summ[\"failures\"], bottom=summ[\"accuracy\"], color=\"red\", hatch=\"/////\", edgecolor=\"gainsboro\", linewidth=0, zorder=100 )\n",
    "\n",
    "ax[0].bar( lineages, accuracy, color=\"skyblue\", zorder=100 )\n",
    "ax[0].bar( lineages, 1-accuracy, bottom=accuracy, color=\"red\", hatch=\"/////\", edgecolor=\"gainsboro\", linewidth=0, zorder=100 )\n",
    "\n",
    "ax[0].set_xticks( range( lineages + 1), summ[\"lineage_actual\"].replace( {\"UNK\" : \"Other\"} ).to_list() + [\"All\"], fontsize=7 )\n",
    "ax[0].yaxis.set_major_formatter(mticker.PercentFormatter(1))\n",
    "ax[0].set_yticks(np.arange(0,1.2,0.2))\n",
    "ax[0].set_yticks(np.arange(0,1.05,0.05), minor=True)\n",
    "\n",
    "ax[0].set_ylim( 0, 1)\n",
    "ax[0].set_xlim( -0.5, lineages + 0.5 )\n",
    "\n",
    "ax[0].axvline( lineages - 0.5, color=\"black\", linewidth=0.75 )\n",
    "\n",
    "ax[0].set_ylabel( \"Proportion of samples\", fontweight=\"bold\")\n",
    "\n",
    "ax[0].grid( which=\"major\", axis=\"y\", linewidth=1, color=\"#F1F1F1\", zorder=1 )\n",
    "ax[0].grid( which=\"minor\", axis=\"y\", linewidth=0.5, color=\"#F1F1F1\", zorder=1 )\n",
    "\n",
    "legend1 = [\n",
    "    Line2D([0], [0], linestyle='none', marker='s', color=\"skyblue\", markeredgecolor=\"black\", markeredgewidth=1, label=\"Correct\", markersize=10 ),\n",
    "    Line2D([0], [0], linestyle='none', marker='s', color=\"red\", markeredgecolor=\"black\", markeredgewidth=1, label=\"Incorrect\", markersize=10 ),\n",
    "]\n",
    "\n",
    "legend1 = ax[0].legend( handles=legend1, title=\"Lineage assignment\", loc=\"lower left\", handletextpad=0, edgecolor=\"white\", fancybox=False, alignment=\"left\", fontsize=10, title_fontproperties={\"size\" : 10, \"weight\" : \"bold\"} )\n",
    "legend1.set_zorder(150)\n",
    "\n",
    "ax[1].imshow( confusion_matrix, cmap=\"Blues\", vmax=75 )\n",
    "\n",
    "ax[1].set_xticks( range( confusion_matrix.shape[0] ), [i.replace( \"UNK\", \"Other\") for i in confusion_matrix.columns], fontsize=7 )\n",
    "ax[1].set_yticks( range( confusion_matrix.shape[1] ), [i.replace( \"UNK\", \"Other\") for i in confusion_matrix.index], fontsize=7 )\n",
    "\n",
    "for i in range( confusion_matrix.shape[0] ):\n",
    "    for j in range( confusion_matrix.shape[1] ):\n",
    "        value = confusion_matrix.iloc[i, j]\n",
    "        if value > 0:\n",
    "            ax[1].text( j, i, int( confusion_matrix.iloc[i, j] ), ha=\"center\", va=\"center\", color=\"black\" if value < 50 else \"white\", fontsize=8 )\n",
    "\n",
    "ax[1].set_xticks( np.arange( 0, confusion_matrix.shape[0] ) + 0.5, minor=True )\n",
    "ax[1].set_yticks( np.arange( 0, confusion_matrix.shape[0] ) + 0.5, minor=True )\n",
    "\n",
    "ax[1].grid( which=\"minor\", color=\"white\", linewidth=1, zorder=100)\n",
    "ax[1].tick_params( axis=\"both\", which=\"minor\", size=0 )\n",
    "\n",
    "ax[1].set_xlabel( \"Actual lineage\", fontweight=\"bold\" )\n",
    "ax[1].set_ylabel( \"Assigned lineage\", fontweight=\"bold\" )\n",
    "\n",
    "plt.tight_layout()\n",
    "plt.savefig( snakemake.output.accuracy_plot )\n",
    "plt.show()"
   ],
   "id": "20578209f323f8bb"
  }
 ],
 "metadata": {
  "kernelspec": {
   "display_name": "Python 3",
   "language": "python",
   "name": "python3"
  },
  "language_info": {
   "codemirror_mode": {
    "name": "ipython",
    "version": 2
   },
   "file_extension": ".py",
   "mimetype": "text/x-python",
   "name": "python",
   "nbconvert_exporter": "python",
   "pygments_lexer": "ipython2",
   "version": "2.7.6"
  }
 },
 "nbformat": 4,
 "nbformat_minor": 5
}
