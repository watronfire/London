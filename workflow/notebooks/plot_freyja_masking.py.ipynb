{
 "cells": [
  {
   "cell_type": "code",
   "execution_count": null,
   "id": "initial_id",
   "metadata": {
    "collapsed": true
   },
   "outputs": [],
   "source": [
    "import pandas as pd\n",
    "import matplotlib.pyplot as plt\n",
    "import matplotlib.ticker as mticker\n",
    "import numpy as np\n",
    "from statsmodels.stats.proportion import proportion_confint"
   ]
  },
  {
   "metadata": {},
   "cell_type": "code",
   "outputs": [],
   "execution_count": null,
   "source": [
    "ush = pd.read_csv( snakemake.input.lineage_calls, usecols=[\"taxon_id\", \"actual_taxa\", \"te\"] )\n",
    "ush.head()"
   ],
   "id": "e85cb22b10446ba7"
  },
  {
   "metadata": {},
   "cell_type": "code",
   "outputs": [],
   "execution_count": null,
   "source": [
    "res = pd.read_csv( snakemake.input.results )\n",
    "res[[\"file\",\"reads\", \"trial\"]] = res[\"sequence_id\"].str.extract( r\"(VB\\d+).(\\d+).(\\d+).txt\" )\n",
    "res[\"reads\"] = pd.to_numeric( res[\"reads\"] )\n",
    "res[\"trial\"] = pd.to_numeric( res[\"trial\"] )\n",
    "res[\"depth\"] = res[\"depth\"].str.rstrip('%').astype( float )\n",
    "res = res.merge( ush, left_on=\"file\", right_on=\"taxon_id\", how=\"left\" )\n",
    "res.loc[res[\"lineage\"].str.startswith( \"anc\" ),\"lineage\"] = \"UNK\"\n",
    "res[\"lineage\"] = res[\"lineage\"].replace( {\"Other\" : \"UNK\"} )\n",
    "res[\"correct\"] = res[\"lineage\"] == res[\"te\"]\n",
    "res.head()"
   ],
   "id": "d144b2658229acc7"
  },
  {
   "metadata": {},
   "cell_type": "code",
   "outputs": [],
   "execution_count": null,
   "source": [
    "summ = res.groupby( \"reads\" )[\"correct\"].agg( [\"count\", \"sum\"] )\n",
    "summ.columns = [\"observations\", \"successes\"]\n",
    "summ = summ.reset_index()\n",
    "summ[\"accuracy\"] = summ[\"successes\"] / summ[\"observations\"]\n",
    "summ[[\"accuracy_low\", \"accuracy_high\"]] = summ.apply( lambda x: pd.Series( proportion_confint( x[\"successes\"], x[\"observations\"], alpha=0.05, method=\"jeffreys\" ) ), axis=1 )\n",
    "summ.head()"
   ],
   "id": "d5f397ed6196d900"
  },
  {
   "metadata": {},
   "cell_type": "code",
   "outputs": [],
   "execution_count": null,
   "source": [
    "fig, ax = plt.subplots( dpi=200, figsize=(7,4), ncols=2, sharex=True, gridspec_kw={\"width_ratios\" : (4,2)} )\n",
    "ax[0].plot( summ[\"reads\"], summ[\"accuracy\"], color=\"black\", linewidth=1, zorder=15 )\n",
    "ax[0].fill_between( summ[\"reads\"], summ[\"accuracy_low\"], summ[\"accuracy_high\"], color=\"black\", linewidth=0, alpha=0.2, zorder=10 )\n",
    "ax[0].set_xscale( \"log\" )\n",
    "ax[0].yaxis.set_major_formatter( mticker.PercentFormatter(1) )\n",
    "ax[0].set_yticks( np.arange( 0, 1, 0.05 ), minor=True )\n",
    "\n",
    "ax[0].grid( which=\"major\", axis=\"both\", linewidth=1, color=\"#F1F1F1\", zorder=1 )\n",
    "ax[0].grid( which=\"minor\", axis=\"both\", linewidth=0.5, color=\"#F1F1F1\", zorder=1 )\n",
    "\n",
    "ax[0].set_ylim(0, 1.01)\n",
    "ax[0].set_xlim(50, 2000000)\n",
    "\n",
    "ax[0].set_ylabel( \"Accuracy [%]\", fontweight=\"bold\")\n",
    "ax[0].set_xlabel( \"Cholera reads\", fontweight=\"bold\" )\n",
    "\n",
    "\n",
    "points = ax[1].scatter( res[\"reads\"], res[\"depth\"], zorder=100, c=\"#009E73\", s=10, )\n",
    "points.set_clip_on(False)\n",
    "ax[1].yaxis.set_major_formatter( mticker.PercentFormatter(100) )\n",
    "ax[1].set_yticks( np.arange( 0, 100, 5 ), minor=True )\n",
    "\n",
    "ax[1].set_xlabel( \"Cholera reads\", fontweight=\"bold\")\n",
    "ax[1].set_ylabel( \"Genome coverage [%]\", fontweight=\"bold\")\n",
    "\n",
    "ax[1].grid( which=\"major\", axis=\"both\", linewidth=1, color=\"#F1F1F1\", zorder=1 )\n",
    "ax[1].grid( which=\"minor\", axis=\"both\", linewidth=0.5, color=\"#F1F1F1\", zorder=1 )\n",
    "\n",
    "ax[1].set_ylim(0, 101)\n",
    "\n",
    "plt.tight_layout()\n",
    "plt.savefig( snakemake.output.accuracy_coverage_plot )\n",
    "plt.show()"
   ],
   "id": "e0d4e355f937b533"
  }
 ],
 "metadata": {
  "kernelspec": {
   "display_name": "Python 3",
   "language": "python",
   "name": "python3"
  },
  "language_info": {
   "codemirror_mode": {
    "name": "ipython",
    "version": 2
   },
   "file_extension": ".py",
   "mimetype": "text/x-python",
   "name": "python",
   "nbconvert_exporter": "python",
   "pygments_lexer": "ipython2",
   "version": "2.7.6"
  }
 },
 "nbformat": 4,
 "nbformat_minor": 5
}
