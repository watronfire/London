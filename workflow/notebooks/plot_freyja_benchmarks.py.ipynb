{
 "cells": [
  {
   "cell_type": "code",
   "execution_count": null,
   "id": "initial_id",
   "metadata": {
    "collapsed": true
   },
   "outputs": [],
   "source": [
    "import pandas as pd\n",
    "import numpy as np\n",
    "import matplotlib.pyplot as plt\n",
    "from scipy.optimize import curve_fit"
   ]
  },
  {
   "metadata": {},
   "cell_type": "code",
   "outputs": [],
   "execution_count": null,
   "source": [
    "bm = pd.read_csv( snakemake.input.results )\n",
    "bm.head()"
   ],
   "id": "fbfac3bb137fe5f6"
  },
  {
   "metadata": {},
   "cell_type": "code",
   "outputs": [],
   "execution_count": null,
   "source": [
    "total_time = bm.pivot_table( index=[\"reads\", \"trial\"], columns=\"step\", values=\"cpu_time\", fill_value=0 )\n",
    "total_time = total_time.sum(axis=1).reset_index()\n",
    "total_time = total_time.rename( columns={0: \"time\"})\n",
    "total_time[\"time_rel\"] = (total_time[\"time\"] / total_time[\"reads\"]) * 1000\n",
    "total_time.head()"
   ],
   "id": "ee2d80ebb13534fa"
  },
  {
   "metadata": {},
   "cell_type": "code",
   "outputs": [],
   "execution_count": null,
   "source": [
    "def basic_exp( x, a, b ):\n",
    "    return a * np.power( x, b )\n",
    "\n",
    "fit, _ = curve_fit( basic_exp, xdata=total_time[\"reads\"], ydata=total_time[\"time\"] )\n",
    "\n",
    "xs = np.logspace(np.log(5), np.log(5000000), 100)\n",
    "ys = [basic_exp( x, *fit ) for x in xs]\n",
    "\n",
    "fig, ax = plt.subplots( dpi=200, figsize=(12, 3.5), ncols=3, sharex=True )\n",
    "\n",
    "ax[0].scatter( \"reads\", \"time\", data=total_time, s=10, zorder=100, c=\"#009E73\" )\n",
    "ax[0].plot( xs, ys, color=\"black\", linewidth=1, linestyle=\"--\", zorder=50 )\n",
    "ax[0].set_xscale( \"log\" )\n",
    "\n",
    "ax[0].set_xlabel( \"Reads\",fontweight=\"bold\" )\n",
    "ax[0].set_ylabel( \"CPU time (seconds)\",fontweight=\"bold\" )\n",
    "\n",
    "ax[0].set_xticks( [100, 1000, 10000, 100000, 1000000] )\n",
    "ax[0].set_xlim(50, 5000000)\n",
    "ax[0].set_ylim(0, 35)\n",
    "\n",
    "ax[0].grid( which=\"major\", axis=\"both\", linewidth=1, color=\"#F1F1F1\", zorder=1 )\n",
    "ax[0].grid( which=\"minor\", axis=\"both\", linewidth=0.5, color=\"#F1F1F1\", zorder=1 )\n",
    "\n",
    "fit2, _ = curve_fit( basic_exp, xdata=total_time[\"reads\"], ydata=total_time[\"time_rel\"] )\n",
    "\n",
    "ys2 = [basic_exp( x, *fit2 ) for x in xs]\n",
    "\n",
    "ax[1].scatter( \"reads\", \"time_rel\", data=total_time, s=10, zorder=100, c=\"#009E73\" )\n",
    "ax[1].plot( xs, ys2, color=\"black\", linewidth=1, linestyle=\"--\", zorder=50 )\n",
    "\n",
    "ax[1].set_ylim(0, 60)\n",
    "\n",
    "ax[1].set_xlabel( \"Reads\",fontweight=\"bold\" )\n",
    "ax[1].set_ylabel( \"CPU time / 1,000 reads (seconds)\",fontweight=\"bold\" )\n",
    "\n",
    "ax[1].grid( which=\"major\", axis=\"both\", linewidth=1, color=\"#F1F1F1\", zorder=1 )\n",
    "ax[1].grid( which=\"minor\", axis=\"both\", linewidth=0.5, color=\"#F1F1F1\", zorder=1 )\n",
    "\n",
    "mem = bm.pivot_table( index=[\"reads\", \"trial\"], columns=\"step\", values=\"max_rss\", fill_value=0 ).max(axis=1).reset_index()\n",
    "mem = mem.rename( columns={0: \"max_rss\"} )\n",
    "\n",
    "fit3, _ = curve_fit( basic_exp, xdata=mem[\"reads\"], ydata=mem[\"max_rss\"] )\n",
    "\n",
    "ys3 = [basic_exp( x, *fit3 ) for x in xs]\n",
    "\n",
    "ax[2].scatter( \"reads\", \"max_rss\", data=mem, s=10, zorder=100, c=\"#009E73\")\n",
    "ax[2].plot( xs, ys3, color=\"black\", linewidth=1, linestyle=\"--\", zorder=50 )\n",
    "ax[2].set_xlabel( \"Reads\",fontweight=\"bold\" )\n",
    "ax[2].set_ylabel( \"Max memory (MB)\",fontweight=\"bold\" )\n",
    "ax[2].set_ylim(0, 450)\n",
    "\n",
    "ax[2].grid( which=\"major\", axis=\"both\", linewidth=1, color=\"#F1F1F1\", zorder=1 )\n",
    "ax[2].grid( which=\"minor\", axis=\"both\", linewidth=0.5, color=\"#F1F1F1\", zorder=1 )\n",
    "\n",
    "plt.tight_layout()\n",
    "plt.savefig( snakemake.output.benchmark_plots )\n",
    "plt.show()"
   ],
   "id": "199e0321e66a5fee"
  }
 ],
 "metadata": {
  "kernelspec": {
   "display_name": "Python 3",
   "language": "python",
   "name": "python3"
  },
  "language_info": {
   "codemirror_mode": {
    "name": "ipython",
    "version": 2
   },
   "file_extension": ".py",
   "mimetype": "text/x-python",
   "name": "python",
   "nbconvert_exporter": "python",
   "pygments_lexer": "ipython2",
   "version": "2.7.6"
  }
 },
 "nbformat": 4,
 "nbformat_minor": 5
}
