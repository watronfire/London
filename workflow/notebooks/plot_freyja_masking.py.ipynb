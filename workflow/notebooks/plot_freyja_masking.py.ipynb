{
 "cells": [
  {
   "cell_type": "code",
   "execution_count": null,
   "id": "initial_id",
   "metadata": {
    "collapsed": true
   },
   "outputs": [],
   "source": [
    "import pandas as pd\n",
    "import matplotlib.pyplot as plt\n",
    "import matplotlib.ticker as mticker\n",
    "import numpy as np"
   ]
  },
  {
   "metadata": {},
   "cell_type": "code",
   "outputs": [],
   "execution_count": null,
   "source": [
    "res = pd.read_csv( snakemake.input.results )\n",
    "res[[\"reads\", \"trial\"]] = res[\"sequence_id\"].str.split( \".\", expand=True )[[1,2]]\n",
    "res[\"actual\"] = \"T15\"\n",
    "res[\"correct\"] = res[\"actual\"]==res[\"lineage\"]\n",
    "res[\"depth\"] = res[\"depth\"].str.rstrip('%').astype('float') / 100\n",
    "res.loc[~res[\"correct\"]&(res[\"confidence\"]>0.5),\"confidence\"] = 1 - res[\"confidence\"]\n",
    "\n",
    "coverage = res.pivot( columns=\"reads\", index=\"trial\", values=\"depth\")\n",
    "\n",
    "res[\"reads\"] = pd.to_numeric( res[\"reads\"] )\n",
    "res.head()"
   ],
   "id": "d144b2658229acc7"
  },
  {
   "metadata": {},
   "cell_type": "code",
   "outputs": [],
   "execution_count": null,
   "source": [
    "summ = res.groupby( \"reads\" )[\"correct\"].agg( [\"count\", \"sum\"] )\n",
    "summ.columns = [\"observations\", \"successes\"]\n",
    "summ = summ.reset_index()\n",
    "summ[\"accuracy\"] = summ[\"successes\"] / summ[\"observations\"]\n",
    "summ[[\"accuracy_low\", \"accuracy_high\"]] = summ.apply( lambda x: pd.Series( proportion_confint( x[\"successes\"], x[\"observations\"], alpha=0.05, method=\"jeffreys\" ) ), axis=1 )\n",
    "summ.head()"
   ],
   "id": "d5f397ed6196d900"
  },
  {
   "metadata": {},
   "cell_type": "code",
   "outputs": [],
   "execution_count": null,
   "source": [
    "fig, ax = plt.subplots( dpi=200, figsize=(7,4), ncols=2, sharex=True, gridspec_kw={\"width_ratios\" : (4,2)} )\n",
    "ax[0].plot( summ[\"reads\"], summ[\"accuracy\"], color=\"black\", linewidth=1, zorder=15 )\n",
    "ax[0].fill_between( summ[\"reads\"], summ[\"accuracy_low\"], summ[\"accuracy_high\"], color=\"black\", linewidth=0, alpha=0.2, zorder=10 )\n",
    "ax[0].set_xscale( \"log\" )\n",
    "ax[0].yaxis.set_major_formatter( mticker.PercentFormatter(1) )\n",
    "ax[0].set_yticks( np.arange( 0, 1, 0.05 ), minor=True )\n",
    "\n",
    "ax[0].grid( which=\"major\", axis=\"both\", linewidth=1, color=\"#F1F1F1\", zorder=1 )\n",
    "ax[0].grid( which=\"minor\", axis=\"both\", linewidth=0.5, color=\"#F1F1F1\", zorder=1 )\n",
    "\n",
    "ax[0].set_ylim(0, 1.01)\n",
    "ax[0].set_xlim(50, 5000000)\n",
    "\n",
    "ax[0].set_ylabel( \"Accuracy [%]\", fontweight=\"bold\")\n",
    "ax[0].set_xlabel( \"Cholera reads\", fontweight=\"bold\" )\n",
    "\n",
    "\n",
    "points = ax[1].scatter( res[\"reads\"], res[\"depth\"], zorder=100, c=\"#009E73\", s=10 )\n",
    "points.set_clip_on(False)\n",
    "ax[1].yaxis.set_major_formatter( mticker.PercentFormatter(1) )\n",
    "ax[1].set_yticks( np.arange( 0, 1, 0.05 ), minor=True )\n",
    "\n",
    "ax[1].set_xlabel( \"Cholera reads\", fontweight=\"bold\")\n",
    "ax[1].set_ylabel( \"Genome coverage [%]\", fontweight=\"bold\")\n",
    "\n",
    "ax[1].grid( which=\"major\", axis=\"both\", linewidth=1, color=\"#F1F1F1\", zorder=1 )\n",
    "ax[1].grid( which=\"minor\", axis=\"both\", linewidth=0.5, color=\"#F1F1F1\", zorder=1 )\n",
    "\n",
    "ax[1].set_ylim(0, 1.01)\n",
    "\n",
    "plt.tight_layout()\n",
    "plt.savefig( snakemake.output.accuracy_coverage_plot )\n",
    "plt.show()"
   ],
   "id": "e0d4e355f937b533"
  }
 ],
 "metadata": {
  "kernelspec": {
   "display_name": "Python 3",
   "language": "python",
   "name": "python3"
  },
  "language_info": {
   "codemirror_mode": {
    "name": "ipython",
    "version": 2
   },
   "file_extension": ".py",
   "mimetype": "text/x-python",
   "name": "python",
   "nbconvert_exporter": "python",
   "pygments_lexer": "ipython2",
   "version": "2.7.6"
  }
 },
 "nbformat": 4,
 "nbformat_minor": 5
}
